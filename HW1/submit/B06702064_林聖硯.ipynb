{
 "cells": [
  {
   "cell_type": "markdown",
   "metadata": {},
   "source": [
    "# Package"
   ]
  },
  {
   "cell_type": "code",
   "execution_count": 2,
   "metadata": {},
   "outputs": [],
   "source": [
    "#Pytorch\n",
    "import torch\n",
    "import torch.nn as nn\n",
    "from torch.utils.data import DataLoader, Dataset\n",
    "\n",
    "#For data preprocessing\n",
    "import numpy as np\n",
    "import pandas as pd\n",
    "\n",
    "import itertools\n",
    "from sklearn.preprocessing import StandardScaler\n",
    "import os\n",
    "import random\n",
    "import csv\n",
    "import gc\n",
    "\n",
    "#For plotting\n",
    "import matplotlib.pyplot as plt\n",
    "\n",
    "#For reproducibility\n",
    "myseed = 42069  # set a random seed for reproducibility\n",
    "torch.backends.cudnn.deterministic = True\n",
    "torch.backends.cudnn.benchmark = False\n",
    "np.random.seed(myseed)\n",
    "torch.manual_seed(myseed)\n",
    "if torch.cuda.is_available():\n",
    "    torch.cuda.manual_seed_all(myseed)"
   ]
  },
  {
   "cell_type": "markdown",
   "metadata": {},
   "source": [
    "# Normalization (Data preprocessing)"
   ]
  },
  {
   "cell_type": "code",
   "execution_count": 3,
   "metadata": {},
   "outputs": [],
   "source": [
    "class DataPreprocessor:\n",
    "    def __init__(self, preprocess_params):\n",
    "        self.train_valid_ratio = preprocess_params[\"train_valid_ratio\"]\n",
    "        self.p_value_threshold = preprocess_params[\"p_value_threshold\"]\n",
    "        self.scaler = None\n",
    "\n",
    "    def preproces_train_data(self, data_path):\n",
    "        \"\"\"\n",
    "        get_lag_variable -> correlation coefficient -> split_train_valid -> normalize\n",
    "        \"\"\"\n",
    "        data = pd.read_csv(data_path)\n",
    "        X = data.loc[:, data.columns != \"PM2.5\"]\n",
    "        y = data.loc[:, data.columns == \"PM2.5\"]\n",
    "        #X = self.get_lag_variable(X, self.num_lag, isTesting = False)\n",
    "        #X = X.dropna()\n",
    "        X = self.do_correlation_coefficient_test(X, y, self.p_value_threshold)\n",
    "        X_train, X_valid, y_train, y_valid = self.split_train_valid(X, y, self.train_valid_ratio)\n",
    "        X_train = self.normalize(X_train, isTraining=True)\n",
    "        X_valid = self.normalize(X_valid, isTraining=False)\n",
    "        return X_train, X_valid, np.array(y_train), np.array(y_valid)\n",
    "\n",
    "    def preprocess_test_data(self, data_path):\n",
    "        \"\"\"\n",
    "        get_lag_variable -> correlation coefficient -> normalize\n",
    "        \"\"\"\n",
    "        X_test = pd.read_csv(data_path)\n",
    "        #X_test = self.get_lag_variable(X_test, self.num_lag, isTesting = True)\n",
    "        X_test = X_test[self.kept_columns]\n",
    "        X_test = self.normalize(X_test, isTraining=False)\n",
    "        return X_test\n",
    "\n",
    "    def normalize(self, data, isTraining = False):\n",
    "        if isTraining:\n",
    "            self.scaler = StandardScaler().fit(data)\n",
    "        data_scaled = self.scaler.transform(data)\n",
    "        return data_scaled\n",
    "\n",
    "    def do_correlation_coefficient_test(self, X, y, p_value_threshold):\n",
    "        corr_features = abs(X.corrwith(y['PM2.5'])).sort_values(ascending=False)\n",
    "        #print(corr_features)\n",
    "        self.kept_columns = (corr_features[corr_features > p_value_threshold]).index\n",
    "        X = X[self.kept_columns]\n",
    "        return X\n",
    "\n",
    "    def split_train_valid(self, X, y, train_valid_ratio = 0.75):\n",
    "        data_len = len(X)\n",
    "        train_len = round(train_valid_ratio * data_len)\n",
    "        train_index = random.sample(range(data_len), train_len)\n",
    "        valid_index = [i for i in range(data_len) if i not in train_index]\n",
    "        X_train = X.iloc[train_index, :]\n",
    "        y_train = y.iloc[train_index, :]\n",
    "        X_valid = X.iloc[valid_index, :]\n",
    "        y_valid = y.iloc[valid_index, :]\n",
    "        return X_train, X_valid, y_train, y_valid"
   ]
  },
  {
   "cell_type": "markdown",
   "metadata": {},
   "source": [
    "# Build model"
   ]
  },
  {
   "cell_type": "code",
   "execution_count": 5,
   "metadata": {},
   "outputs": [],
   "source": [
    "def get_device():\n",
    "    ''' Get device (if GPU is available, use GPU) '''\n",
    "    return 'cuda' if torch.cuda.is_available() else 'cpu'\n",
    "\n",
    "class NeuralNet(nn.Module):\n",
    "    ''' A simple fully-connected deep neural network '''\n",
    "    def __init__(self, input_dim):\n",
    "        super(NeuralNet, self).__init__()\n",
    "        self.net = nn.Sequential(\n",
    "            #input layer\n",
    "            nn.Linear(input_dim, 3), \n",
    "            nn.ReLU(),\n",
    "            \n",
    "            #hidden layer\n",
    "            nn.Linear(3, 3),\n",
    "            nn.ReLU(),\n",
    "            nn.Dropout(),\n",
    "            nn.Linear(3, 3),\n",
    "            nn.ReLU(),\n",
    "            nn.Dropout(),\n",
    "\n",
    "            #output layer\n",
    "            nn.Linear(3, 1)\n",
    "        )\n",
    "\n",
    "        self.net.apply(self.init_weights)\n",
    "        self.criterion = nn.MSELoss(reduction='mean')\n",
    "\n",
    "    def init_weights(self, m):\n",
    "        if isinstance(m, nn.Linear):\n",
    "            nn.init.xavier_uniform_(m.weight)\n",
    "            m.bias.data.fill_(0.01)\n",
    "\n",
    "    def forward(self, x):\n",
    "        ''' Given input of size (batch_size x input_dim), compute output of the network '''\n",
    "        return self.net(x)\n",
    "\n",
    "    def cal_loss(self, pred, target):\n",
    "        ''' Calculate loss '''\n",
    "        return self.criterion(pred, target)\n",
    "\n",
    "def train(model, train_set, valid_set, params_set, device, verbose = False):\n",
    "    #params settings\n",
    "    num_epoch = params_set[\"num_epoch\"]\n",
    "    optimizer = getattr(torch.optim, params_set['optimizer'])(\n",
    "    model.parameters(), **params_set['optim_hparams'])\n",
    "    patience = params_set[\"patience\"]\n",
    "\n",
    "    #recording\n",
    "    best_train_MSE = 0\n",
    "    best_valid_MSE = 99999\n",
    "    best_epoch = 0\n",
    "    loss_record = {\"train\": [], \"valid\": []}\n",
    "\n",
    "    #start training\n",
    "    for idx_epoch in range(num_epoch):\n",
    "        model.train()\n",
    "        train_SSE = 0\n",
    "        for idx, train_data in enumerate(train_set):\n",
    "            X, y = train_data\n",
    "            X, y = X.to(device), y.to(device)\n",
    "            optimizer.zero_grad()\n",
    "            train_pred = model(X)\n",
    "            train_loss = model.cal_loss(train_pred.flatten(), y.flatten())\n",
    "            train_loss.backward()\n",
    "            optimizer.step()\n",
    "            train_SSE += (train_loss.detach().cpu().item()) * len(X)\n",
    "        train_MSE = train_SSE / len(train_set.dataset)\n",
    "        loss_record[\"train\"].append(train_MSE)\n",
    "        #validation\n",
    "        valid_MSE = valid(model, valid_set, device)\n",
    "        loss_record[\"valid\"].append(valid_MSE)\n",
    "\n",
    "        if verbose:\n",
    "            print(f\"Epoch {idx_epoch}, Train loss: {round(train_MSE, 4)}, Valid loss: {round(valid_MSE, 4)}\")\n",
    "\n",
    "        #save best result\n",
    "        if valid_MSE < best_valid_MSE:\n",
    "            best_valid_MSE = valid_MSE\n",
    "            best_train_MSE = train_MSE\n",
    "            best_epoch = idx_epoch\n",
    "        \n",
    "        #early stopping\n",
    "        if valid_MSE > best_valid_MSE and idx_epoch >= best_epoch + patience:\n",
    "            print(\"=\"*50)\n",
    "            print(\"Early Stopping!\")\n",
    "            print(f\"Best epoch is {best_epoch}, training loss = {round(best_train_MSE, 4)}, minimum valid loss = {round(best_valid_MSE, 4)}\")\n",
    "            return loss_record, model\n",
    "\n",
    "    #Training until the final epoch\n",
    "    print(\"=\" * 50)\n",
    "    print(\"Model result:\")\n",
    "    print(f\"Best epoch is {best_epoch}, training loss = {round(best_train_MSE, 4)}, minimum valid loss = {round(best_valid_MSE, 4)}\")\n",
    "    return loss_record, model\n",
    "\n",
    "def valid(model, valid_set, device):\n",
    "    valid_SSE = 0\n",
    "    with torch.no_grad():\n",
    "        model.eval()     \n",
    "        for idx, valid_data in enumerate(valid_set):\n",
    "            X, y = valid_data\n",
    "            X, y = X.to(device), y.to(device)\n",
    "            valid_pred = model(X)\n",
    "            valid_loss = model.cal_loss(valid_pred, y)\n",
    "            valid_SSE += (valid_loss.detach().cpu().item()) * len(X)\n",
    "    valid_MSE = valid_SSE / len(valid_set.dataset)\n",
    "    return valid_MSE\n",
    "\n",
    "def test(model, test_set, device):\n",
    "    preds = []\n",
    "    with torch.no_grad():\n",
    "        model.eval()\n",
    "        for X in test_set:\n",
    "            X = X.to(device)\n",
    "            test_pred = model(X)\n",
    "            preds.append(test_pred.flatten().detach().cpu())\n",
    "        preds = torch.cat(preds, dim=0).numpy()\n",
    "    return preds"
   ]
  },
  {
   "cell_type": "markdown",
   "metadata": {},
   "source": [
    "# Fit dataset"
   ]
  },
  {
   "cell_type": "code",
   "execution_count": 6,
   "metadata": {},
   "outputs": [],
   "source": [
    "class EPADataSet(Dataset):\n",
    "    \"\"\"Dataset for loading and preprocessing the EPA Weather data\n",
    "    \"\"\"\n",
    "    def __init__(self, X, y = None, mode = \"train\"):\n",
    "        self.mode = mode\n",
    "        if mode in [\"train\", \"valid\"]:\n",
    "            self.data = torch.from_numpy(X).float()\n",
    "            self.target = torch.from_numpy(y.reshape(-1, 1)).float()\n",
    "            self.dim = X.shape[1]\n",
    "            # print(f\"Check nan...\")\n",
    "            # if not np.any(np.isnan(X)) and not np.any(np.isnan(y)):\n",
    "            #     print(\"No nan in dataset.\")\n",
    "        else:\n",
    "            self.data = torch.from_numpy(X).float()\n",
    "            self.dim = X.shape[1]\n",
    "        #     print(f\"Check nan...\")\n",
    "        #     if not np.any(np.isnan(X)):\n",
    "        #         print(\"No nan in dataset.\")\n",
    "\n",
    "        print(f\"Finish reading {self.mode} dataset ({len(self.data)} samples, {self.dim} features)\")\n",
    "        # if mode in [\"train\", \"valid\"]:\n",
    "        #     print(f\"Check target size... The target size is {len(self.target)}\")\n",
    "        \n",
    "    def __len__(self):\n",
    "        return len(self.data)\n",
    "\n",
    "    def __getitem__(self, index):\n",
    "        if self.mode in [\"train\", \"valid\"]:\n",
    "            return self.data[index], self.target[index]\n",
    "        else:\n",
    "            return self.data[index]"
   ]
  },
  {
   "cell_type": "code",
   "execution_count": 7,
   "metadata": {},
   "outputs": [],
   "source": [
    "def prep_dataloader(mode, batch_size, X, y = None):\n",
    "    \"\"\"Generates a dataset, then is put into a dataloader. \n",
    "    \"\"\"\n",
    "    dataset = EPADataSet(X, y, mode)\n",
    "    dataloader = DataLoader(\n",
    "        dataset, batch_size,\n",
    "        shuffle = (mode == \"train\"), drop_last=False, pin_memory = True)\n",
    "    return dataloader"
   ]
  },
  {
   "cell_type": "markdown",
   "metadata": {},
   "source": [
    "### Start training"
   ]
  },
  {
   "cell_type": "code",
   "execution_count": 12,
   "metadata": {},
   "outputs": [],
   "source": [
    "#preprocessing\n",
    "preprocess_params = {\n",
    "    \"train_valid_ratio\": 0.75,\n",
    "    \"p_value_threshold\": 0.3\n",
    "}\n",
    "\n",
    "train_path = os.path.join(\"training_data.csv\")\n",
    "test_path = os.path.join(\"testing_data.csv\")\n",
    "\n",
    "DP = DataPreprocessor(preprocess_params)\n",
    "X_train, X_valid, y_train, y_valid = DP.preproces_train_data(train_path)\n",
    "X_test = DP.preprocess_test_data(test_path)"
   ]
  },
  {
   "cell_type": "code",
   "execution_count": 13,
   "metadata": {},
   "outputs": [],
   "source": [
    "#training\n",
    "#These hyperparameters are set from my best result\n",
    "#You don't need to tune it again\n",
    "params_set = {\n",
    "    \"num_batch\": [512], \n",
    "    \"num_epoch\": [50],\n",
    "    #optimizer\n",
    "    \"optimizer\": [\"Adam\"],\n",
    "    \"optim_hparams\": [{\n",
    "        \"lr\": [0.5],\n",
    "        \"weight_decay\": [1]\n",
    "    }],\n",
    "    #for early stopping\n",
    "    \"patience\": [10]\n",
    "}\n",
    "\n",
    "param_grid = []\n",
    "count = 0\n",
    "for values in itertools.product(*params_set.values()):\n",
    "    param = dict(zip(params_set.keys(), values))\n",
    "    for optim_values in itertools.product(*param[\"optim_hparams\"].values()):\n",
    "        param_copy = param.copy()\n",
    "        param_copy[\"optim_hparams\"] = dict(zip(param[\"optim_hparams\"].keys(), optim_values))\n",
    "        param_grid.append(param_copy)\n",
    "\n",
    "device = get_device() \n",
    "os.makedirs('models', exist_ok=True)"
   ]
  },
  {
   "cell_type": "code",
   "execution_count": 16,
   "metadata": {},
   "outputs": [
    {
     "name": "stdout",
     "output_type": "stream",
     "text": [
      "Parameter settings:\n",
      "{'num_batch': 512, 'num_epoch': 50, 'optimizer': 'Adam', 'optim_hparams': {'lr': 0.5, 'weight_decay': 1}, 'patience': 10}\n",
      "Finish reading train dataset (6588 samples, 6 features)\n",
      "Finish reading valid dataset (2196 samples, 6 features)\n",
      "Finish reading test dataset (8760 samples, 6 features)\n",
      "==================================================\n",
      "Early Stopping!\n",
      "Best epoch is 17, training loss = 607.6343, minimum valid loss = 289.847\n",
      "==================================================\n"
     ]
    }
   ],
   "source": [
    "best_valid_loss = 10 ** 7\n",
    "best_train_loss = 0\n",
    "best_loss_record = None\n",
    "best_model = None\n",
    "best_params = None\n",
    "count = 0\n",
    "all_loss_record = list()\n",
    "\n",
    "#change when you need to tune this model\n",
    "model_save_path = \"HW1_model_test.pth\"\n",
    "\n",
    "for param in param_grid:\n",
    "        print(\"Parameter settings:\")\n",
    "        print(param)\n",
    "\n",
    "        train_set = prep_dataloader(\"train\", param[\"num_batch\"], X_train, y_train)\n",
    "        valid_set = prep_dataloader(\"valid\", param[\"num_batch\"], X_valid, y_valid)\n",
    "        test_set = prep_dataloader(\"test\", param[\"num_batch\"], X_test)\n",
    "\n",
    "        model = NeuralNet(train_set.dataset.dim).to(device)  # Construct model and move to device\n",
    "        loss_record, local_best_model = train(model, train_set, valid_set, param, device, verbose = False)\n",
    "        all_loss_record.append(min(loss_record[\"valid\"]))\n",
    "        if min(loss_record[\"valid\"]) < best_valid_loss:\n",
    "            best_valid_loss = min(loss_record[\"valid\"])\n",
    "            best_train_loss = min(loss_record[\"train\"])\n",
    "            best_loss_record = loss_record\n",
    "            best_model = local_best_model\n",
    "            best_params = param\n",
    "            torch.save(best_model.state_dict(), model_save_path)\n",
    "        print(\"=\"*50)\n",
    "        count += 1"
   ]
  },
  {
   "cell_type": "code",
   "execution_count": 17,
   "metadata": {},
   "outputs": [
    {
     "name": "stdout",
     "output_type": "stream",
     "text": [
      "========== Tuning Result ==========\n",
      "Best params are: {'num_batch': 512, 'num_epoch': 50, 'optimizer': 'Adam', 'optim_hparams': {'lr': 0.5, 'weight_decay': 1}, 'patience': 10}\n",
      "Training MSE: 576.5959096143082, Valid MSE: 289.84698997733807\n"
     ]
    }
   ],
   "source": [
    "print(\"=\"*10, \"Tuning Result\", \"=\"*10)\n",
    "print(f\"Best params are: {best_params}\")\n",
    "print(f\"Training MSE: {best_train_loss}, Valid MSE: {best_valid_loss}\")"
   ]
  },
  {
   "cell_type": "markdown",
   "metadata": {},
   "source": [
    "# Re-load best weight, and prediction tset dataset"
   ]
  },
  {
   "cell_type": "code",
   "execution_count": 22,
   "metadata": {},
   "outputs": [
    {
     "data": {
      "text/plain": [
       "<All keys matched successfully>"
      ]
     },
     "execution_count": 22,
     "metadata": {},
     "output_type": "execute_result"
    }
   ],
   "source": [
    "#load best weight\n",
    "model_save_path = \"HW1_model.pth\"\n",
    "model = NeuralNet(train_set.dataset.dim).to(device)\n",
    "model_check_point = torch.load(model_save_path, map_location='cpu')\n",
    "model.load_state_dict(model_check_point)"
   ]
  },
  {
   "cell_type": "markdown",
   "metadata": {},
   "source": [
    "# Save test prediction, and plot figure"
   ]
  },
  {
   "cell_type": "code",
   "execution_count": 23,
   "metadata": {},
   "outputs": [
    {
     "data": {
      "image/png": "[encoded data removed]",
      "text/plain": [
       "<Figure size 432x288 with 1 Axes>"
      ]
     },
     "metadata": {
      "needs_background": "light"
     },
     "output_type": "display_data"
    }
   ],
   "source": [
    "y_pred = test(best_model, test_set, device)\n",
    "x = [i for i in range(len(y_pred))]\n",
    "plt.plot(x, y_pred)\n",
    "plt.show()"
   ]
  },
  {
   "cell_type": "markdown",
   "metadata": {},
   "source": [
    "# Upload Format"
   ]
  },
  {
   "cell_type": "code",
   "execution_count": 24,
   "metadata": {},
   "outputs": [],
   "source": [
    "def save_pred(preds, file):\n",
    "    ''' Save predictions to specified file '''\n",
    "    print('Saving results to {}'.format(file))\n",
    "    with open(file, 'w') as fp:\n",
    "        writer = csv.writer(fp)\n",
    "        writer.writerow(['INDEX', 'PM2.5'])\n",
    "        for i, p in enumerate(preds):\n",
    "            writer.writerow([i+1, p])"
   ]
  },
  {
   "cell_type": "code",
   "execution_count": 25,
   "metadata": {},
   "outputs": [
    {
     "name": "stdout",
     "output_type": "stream",
     "text": [
      "Saving results to b06702064_林聖硯.csv\n"
     ]
    }
   ],
   "source": [
    "submit_path = \"b06702064_林聖硯.csv\"\n",
    "save_pred(y_pred, submit_path)"
   ]
  }
 ],
 "metadata": {
  "interpreter": {
   "hash": "949777d72b0d2535278d3dc13498b2535136f6dfe0678499012e853ee9abcab1"
  },
  "kernelspec": {
   "display_name": "Python 3.7.12 64-bit",
   "name": "python3"
  },
  "language_info": {
   "codemirror_mode": {
    "name": "ipython",
    "version": 3
   },
   "file_extension": ".py",
   "mimetype": "text/x-python",
   "name": "python",
   "nbconvert_exporter": "python",
   "pygments_lexer": "ipython3",
   "version": "3.7.12"
  },
  "orig_nbformat": 4
 },
 "nbformat": 4,
 "nbformat_minor": 2
}
